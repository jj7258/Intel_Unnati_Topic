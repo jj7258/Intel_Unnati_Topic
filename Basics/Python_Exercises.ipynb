{
  "nbformat": 4,
  "nbformat_minor": 0,
  "metadata": {
    "colab": {
      "provenance": [],
      "authorship_tag": "ABX9TyPGWHjd7pM5wzk0ceuk6K5j",
      "include_colab_link": true
    },
    "kernelspec": {
      "name": "python3",
      "display_name": "Python 3"
    },
    "language_info": {
      "name": "python"
    }
  },
  "cells": [
    {
      "cell_type": "markdown",
      "metadata": {
        "id": "view-in-github",
        "colab_type": "text"
      },
      "source": [
        "<a href=\"https://colab.research.google.com/github/jj7258/Intel_Unnati_Topic/blob/main/Basics/Python_Exercises.ipynb\" target=\"_parent\"><img src=\"https://colab.research.google.com/assets/colab-badge.svg\" alt=\"Open In Colab\"/></a>"
      ]
    },
    {
      "cell_type": "markdown",
      "source": [
        "## 1. Program to find the largest of three numbers\n",
        "---------------------\n",
        "### Steps:-\n",
        "**1.** Enter the three numbers \n",
        "\n",
        "**2.** Compare the numbers amongst each other\n",
        "\n",
        "**3.** Print the largest number"
      ],
      "metadata": {
        "id": "o01ZxmHRxIAJ"
      }
    },
    {
      "cell_type": "code",
      "execution_count": null,
      "metadata": {
        "colab": {
          "base_uri": "https://localhost:8080/"
        },
        "id": "PU2K9TYZw_pH",
        "outputId": "10b12946-1ccc-4e95-877b-2393a241fd8d"
      },
      "outputs": [
        {
          "output_type": "stream",
          "name": "stdout",
          "text": [
            "Enter first number: 20\n",
            "Enter second number: 30\n",
            "Enter third number: 10\n",
            "The largest number is 30.0\n"
          ]
        }
      ],
      "source": [
        "\"\"\"\n",
        "# Python program to find the largest number among the three input numbers\n",
        "\"\"\"\n",
        "num1 = float(input(\"Enter first number: \"))\n",
        "num2 = float(input(\"Enter second number: \"))\n",
        "num3 = float(input(\"Enter third number: \"))\n",
        "if (num1 >= num2) and (num1 >= num3):\n",
        "   largest = num1\n",
        "elif (num2 >= num1) and (num2 >= num3):\n",
        "   largest = num2\n",
        "else:\n",
        "   largest = num3\n",
        "print(\"The largest number is\", largest)"
      ]
    },
    {
      "cell_type": "markdown",
      "source": [
        "# 2. Program to print the multiplication table\n",
        "--------------------------------------\n",
        "## Steps:-\n",
        "**1.** Enter the number\n",
        "\n",
        "**2.** Iterate it 10 times using the for loop\n",
        "\n",
        "**3.** The o/p should be of the format *2 x 1 = 2*"
      ],
      "metadata": {
        "id": "wKd6sd3Q12Wq"
      }
    },
    {
      "cell_type": "code",
      "source": [
        "# Multiplication table (from 1 to 10) in Python\n",
        "\n",
        "# To take input from the user\n",
        "num = int(input(\"Display multiplication table of : \"))\n",
        "\n",
        "# Iterate 10 times from i = 1 to 10\n",
        "for i in range(1, 11):\n",
        "   print(num, 'x', i, '=', num*i)"
      ],
      "metadata": {
        "colab": {
          "base_uri": "https://localhost:8080/"
        },
        "id": "6T8a8SnT2cNh",
        "outputId": "b974a4bf-eeaa-4e46-c415-eefd1f9c8ab5"
      },
      "execution_count": null,
      "outputs": [
        {
          "output_type": "stream",
          "name": "stdout",
          "text": [
            "Display multiplication table of : 5\n",
            "5 x 1 = 5\n",
            "5 x 2 = 10\n",
            "5 x 3 = 15\n",
            "5 x 4 = 20\n",
            "5 x 5 = 25\n",
            "5 x 6 = 30\n",
            "5 x 7 = 35\n",
            "5 x 8 = 40\n",
            "5 x 9 = 45\n",
            "5 x 10 = 50\n"
          ]
        }
      ]
    },
    {
      "cell_type": "markdown",
      "source": [
        "# 3. Program to check for sign of a number\n",
        "------------------------------\n",
        "## Steps:-\n",
        "**1.** Enter the number\n",
        "\n",
        "**2.** Using conditional statment check whehter is *+ve, -ve* or *0*"
      ],
      "metadata": {
        "id": "OLXpjrcN3AZf"
      }
    },
    {
      "cell_type": "code",
      "source": [
        "num = float(input(\"Enter a number: \"))\n",
        "if num > 0:\n",
        "   print(\"Positive number\")\n",
        "elif num == 0:\n",
        "   print(\"Zero\")\n",
        "else:\n",
        "   print(\"Negative number\")"
      ],
      "metadata": {
        "colab": {
          "base_uri": "https://localhost:8080/"
        },
        "id": "QU4DYI8f3cZF",
        "outputId": "aa0d1a36-85e7-48a9-b90b-b14ce45be66b"
      },
      "execution_count": null,
      "outputs": [
        {
          "output_type": "stream",
          "name": "stdout",
          "text": [
            "Enter a number: -40\n",
            "Negative number\n"
          ]
        }
      ]
    },
    {
      "cell_type": "markdown",
      "source": [
        "# 4. Program to find the surface area and volume of a cylinder\n",
        "--------------------------------\n",
        "## Steps:-\n",
        "**1.** Enter the radius *r* and height *h* of the right circular cylinder\n",
        "\n",
        "**2.** Find the suraface area and the volume using the formulas\n",
        "  $$SA=2\\pi r(r+h)$$\n",
        "\n",
        "$$V=\\pi r^2 h$$"
      ],
      "metadata": {
        "id": "F7ziDe6V3lrm"
      }
    },
    {
      "cell_type": "code",
      "source": [
        "pi=3.14\n",
        "r=float(input(\"Enter the radius: \"))\n",
        "h=float(input(\"Enter the height: \"))\n",
        "SA=2*pi*r*(r+h)\n",
        "V=pi*r**2*h\n",
        "print((\"Surface Area is {} and Volume is {}\").format(SA,V))"
      ],
      "metadata": {
        "colab": {
          "base_uri": "https://localhost:8080/"
        },
        "id": "aJ6q486s4Qca",
        "outputId": "fda21af6-b451-48d1-d349-9b9f832b4ff4"
      },
      "execution_count": null,
      "outputs": [
        {
          "output_type": "stream",
          "name": "stdout",
          "text": [
            "Enter the radius: 2.6\n",
            "Enter the height: 1.6\n",
            "Surface Area is 68.57760000000002 and Volume is 33.96224\n"
          ]
        }
      ]
    },
    {
      "cell_type": "markdown",
      "source": [
        "# 5. Program to find the area of a circle with radius $r$ using user input\n",
        "------------------------------\n",
        "## Steps:-\n",
        "**1.** Enter the radius of the circle\n",
        "\n",
        "**2.** Calcuate the area using the formula\n",
        "$$A=\\pi r^2$$"
      ],
      "metadata": {
        "id": "MkAM80sr4par"
      }
    },
    {
      "cell_type": "code",
      "source": [
        "r=float(input(\"Enter the radius: \"))\n",
        "print(\"Area: \",pi*r**2)"
      ],
      "metadata": {
        "colab": {
          "base_uri": "https://localhost:8080/"
        },
        "id": "kzHFwySo5Nzy",
        "outputId": "fe127965-47b0-4915-d040-0d8fd8359449"
      },
      "execution_count": null,
      "outputs": [
        {
          "output_type": "stream",
          "name": "stdout",
          "text": [
            "Enter the radius: 2\n",
            "Area:  12.56\n"
          ]
        }
      ]
    },
    {
      "cell_type": "markdown",
      "source": [
        "# 6. Program to Find the area of a rectangle with lenght $l$ and breadth $b$\n",
        "-------------------------------------\n",
        "## Steps:-\n",
        "**1.** Enter the length *l* and breadth *b* of the rectangle\n",
        "\n",
        "**2.** Calculate the area using the formula \n",
        "\n",
        "$$A=l*b$$"
      ],
      "metadata": {
        "id": "Ik72PSDL4pQc"
      }
    },
    {
      "cell_type": "code",
      "source": [
        "l=float(input(\"Enter the length: \"))\n",
        "b=float(input(\"Enter the breadth: \"))\n",
        "Area=l*b\n",
        "print(\"Area of the Rectangle is : \",Area)"
      ],
      "metadata": {
        "colab": {
          "base_uri": "https://localhost:8080/"
        },
        "id": "Q7LnqlAq56WL",
        "outputId": "0f715fa2-a7fc-4ef7-d576-0ff7a435c0b4"
      },
      "execution_count": null,
      "outputs": [
        {
          "output_type": "stream",
          "name": "stdout",
          "text": [
            "Enter the length: 2\n",
            "Enter the breadth: 9.2\n",
            "Area of the Rectangle is :  18.4\n"
          ]
        }
      ]
    },
    {
      "cell_type": "markdown",
      "source": [
        "## 7. Program to replacing a word with another word  in a sentence\n",
        "\n",
        "Use the `replace()` method in `python`\n",
        "\n",
        ">**Syntax:**\n",
        "\n",
        "```\n",
        "str.replace(old,new)\n",
        "```\n"
      ],
      "metadata": {
        "id": "4Vt_IVQq56Ib"
      }
    },
    {
      "cell_type": "code",
      "source": [
        "# program to replace a word by another word in a sentence\n",
        "\n",
        "text = 'hand ball is a hand full of hands'\n",
        "\n",
        "# replace 'hand' with 'foot'\n",
        "replaced_text = text.replace('hand ', 'foot ')\n",
        "print(replaced_text)"
      ],
      "metadata": {
        "colab": {
          "base_uri": "https://localhost:8080/"
        },
        "id": "65puxPPo6Ot2",
        "outputId": "0ee94271-4b76-44ee-8b3d-1160759c20e2"
      },
      "execution_count": null,
      "outputs": [
        {
          "output_type": "stream",
          "name": "stdout",
          "text": [
            "foot ball is a foot full of hands\n"
          ]
        }
      ]
    },
    {
      "cell_type": "markdown",
      "source": [
        "## 8. Program to remove a word from a sentence\n",
        "\n",
        "We will use the string method `remove()`.\n",
        "\n",
        ">**Syntax:**\n",
        "\n",
        "```\n",
        "str.remove(word to be removed)\n",
        "```"
      ],
      "metadata": {
        "id": "2allwQQg6TTu"
      }
    },
    {
      "cell_type": "code",
      "source": [
        "# program to remove a word from a sentence\n",
        "text = input(\"Enter the String: \")\n",
        "word = input(\"Enter a Word to Delete: \")\n",
        "\n",
        "text = text.replace(word, \"\")\n",
        "print(\"The updated sentence is:\\n\")\n",
        "print(text)"
      ],
      "metadata": {
        "colab": {
          "base_uri": "https://localhost:8080/"
        },
        "id": "zlfBnt7z6YE7",
        "outputId": "da7a03cc-2f56-4efb-e3ee-ca9da7b431b5"
      },
      "execution_count": null,
      "outputs": [
        {
          "output_type": "stream",
          "name": "stdout",
          "text": [
            "Enter the String: this is a pen\n",
            "Enter a Word to Delete: pen\n",
            "The updated sentence is:\n",
            "\n",
            "this is a \n"
          ]
        }
      ]
    },
    {
      "cell_type": "code",
      "source": [
        "# program to remove a word from a sentence\n",
        "li=[]\n",
        "str1=\" \"\n",
        "text = input(\"Enter the String: \")\n",
        "word = input(\"Enter a Word to Delete: \")\n",
        "test=text.split()\n",
        "test.remove(word)\n",
        "\n",
        "def list_to_string(test):\n",
        "  return (str1.join(test))\n",
        "\n",
        "print(\"The updated sentence is:\\n\")\n",
        "print(test)\n",
        "print(list_to_string(test))"
      ],
      "metadata": {
        "colab": {
          "base_uri": "https://localhost:8080/"
        },
        "id": "kkO7t4Bw6fcz",
        "outputId": "8921e921-9fe4-4050-c7bf-b4c676cc92fc"
      },
      "execution_count": null,
      "outputs": [
        {
          "output_type": "stream",
          "name": "stdout",
          "text": [
            "Enter the String: Computer is a PC\n",
            "Enter a Word to Delete: PC\n",
            "The updated sentence is:\n",
            "\n",
            "['Computer', 'is', 'a']\n",
            "Computer is a\n"
          ]
        }
      ]
    },
    {
      "cell_type": "markdown",
      "source": [
        "# 9. Program to split a sentence into words\n",
        "\n",
        "use the `split()` method\n",
        ">**Syntax:**\n",
        "```\n",
        "str.split()\n",
        "```"
      ],
      "metadata": {
        "id": "-xVr0l9m50FU"
      }
    },
    {
      "cell_type": "code",
      "source": [
        "wordlist = text.split()\n",
        "wordlist"
      ],
      "metadata": {
        "colab": {
          "base_uri": "https://localhost:8080/"
        },
        "id": "PypIOTfq7b7b",
        "outputId": "02e7a817-a43e-49cc-b2af-07e5259bc157"
      },
      "execution_count": null,
      "outputs": [
        {
          "output_type": "execute_result",
          "data": {
            "text/plain": [
              "['computer', 'is', 'a', 'PC']"
            ]
          },
          "metadata": {},
          "execution_count": 10
        }
      ]
    },
    {
      "cell_type": "markdown",
      "source": [
        "# 10. Program to check if a list of words is in a long string at least one\n",
        "-------------------------------\n",
        "## Steps:-\n",
        "**1.** Convert the list to an set using the function\n",
        "`set()`\n",
        "\n",
        "**2.** In an conditional statment find the keywords that occures using the `intersection()` function"
      ],
      "metadata": {
        "id": "aPP09PX97bfq"
      }
    },
    {
      "cell_type": "code",
      "source": [
        "# program to check atleat one occurance of keywords\n",
        "\n",
        "keyword_list = ['motorcycle', 'bike', 'bicycle', 'dirtbike', \"long\"]\n",
        "all_text = 'The bicycle is just as good company as most husbands and, when it gets old and shabby, a woman can dispose of it and get a new one without shocking the entire community'\n",
        "if set(keyword_list).intersection(all_text.split()):\n",
        "     print(\"Found One\")"
      ],
      "metadata": {
        "colab": {
          "base_uri": "https://localhost:8080/"
        },
        "id": "HegNobxd8toI",
        "outputId": "f4dd4a64-b58a-4345-912a-0c370f17975d"
      },
      "execution_count": null,
      "outputs": [
        {
          "output_type": "stream",
          "name": "stdout",
          "text": [
            "Found One\n"
          ]
        }
      ]
    },
    {
      "cell_type": "markdown",
      "source": [
        "# 11. Program to check a number is even or odd\n",
        "------------------------------------------\n",
        "## Steps:-\n",
        "**1.** Enter the number\n",
        "\n",
        "**2.** Divide the number by *2* and if the remainder is *0*, print that the number is **even**, otherwise the number is **odd**"
      ],
      "metadata": {
        "id": "WxJPaiH98whs"
      }
    },
    {
      "cell_type": "code",
      "source": [
        "num = int(input(\"Enter the Number: \"))\n",
        "if num %2 == 0:\n",
        "    print(\"\\n\",num,\"is an Even Number\")\n",
        "else:\n",
        "    print(\"\\n\",num,\"is an Odd Number\")"
      ],
      "metadata": {
        "colab": {
          "base_uri": "https://localhost:8080/"
        },
        "id": "HaLFjBgu9dSM",
        "outputId": "d99296ec-1544-4c3e-f33f-284200d7d9a8"
      },
      "execution_count": null,
      "outputs": [
        {
          "output_type": "stream",
          "name": "stdout",
          "text": [
            "Enter the Number: 10\n",
            "\n",
            " 10 is an Even Number\n"
          ]
        }
      ]
    },
    {
      "cell_type": "markdown",
      "source": [
        "# 12. Program to check whether an entered one is an alphabet or not\n",
        "----------------------------------------------\n",
        "##Steps:-\n",
        "**1.** Enter a character\n",
        "\n",
        "**2.** Check whether the charcater is between [*a* to *z*] or [*A* to *Z*]\n"
      ],
      "metadata": {
        "id": "fU_ajjCh954U"
      }
    },
    {
      "cell_type": "code",
      "source": [
        "c = input(\"Enter a Character: \")\n",
        "if c>='a' and c<='z':\n",
        "    print(\"\\nIt is an alphabet\")\n",
        "elif c>='A' and c<='z':\n",
        "    print(\"\\nIt is an alphabet\")\n",
        "else:\n",
        "    print(\"\\nIt is not an alphabet!\")"
      ],
      "metadata": {
        "colab": {
          "base_uri": "https://localhost:8080/"
        },
        "id": "a2V3zQCB-YR8",
        "outputId": "a58af390-b02b-43e2-cc08-bd4c45f42535"
      },
      "execution_count": null,
      "outputs": [
        {
          "output_type": "stream",
          "name": "stdout",
          "text": [
            "Enter a Character: d\n",
            "\n",
            "It is an alphabet\n"
          ]
        }
      ]
    },
    {
      "cell_type": "markdown",
      "source": [
        "# 13. Program to check whether an entered letter is a vowel or not\n",
        "-------------------------------------------\n",
        "##Steps:-\n",
        "**1.** Enter the character\n",
        "\n",
        "**2.** Check whether it exists using the `in` keyword\n",
        "\n",
        ">**Another method**\n",
        "\n",
        "using `or` expression"
      ],
      "metadata": {
        "id": "AKZTKmoX-fSd"
      }
    },
    {
      "cell_type": "code",
      "source": [
        "c = input(\"Enter the Character: \")\n",
        "v={'a','e','i','o','u','A','E','I','O','U'}\n",
        "if c in v:\n",
        "    print(\"\\nIt is a Vowel\")\n",
        "else:\n",
        "    print(\"\\nIt is a Consonant\")"
      ],
      "metadata": {
        "colab": {
          "base_uri": "https://localhost:8080/"
        },
        "id": "V3oBqges-3JO",
        "outputId": "7aca05a7-765b-42ea-95d9-307e4b9d7426"
      },
      "execution_count": null,
      "outputs": [
        {
          "output_type": "stream",
          "name": "stdout",
          "text": [
            "Enter the Character: i\n",
            "\n",
            "It is a Vowel\n"
          ]
        }
      ]
    },
    {
      "cell_type": "code",
      "source": [
        "c = input(\"Enter the Character: \")\n",
        "\n",
        "if c=='a' or c=='e' or c=='i' or c=='o' or c=='u':\n",
        "    print(\"\\nIt is a Vowel\")\n",
        "elif c=='A' or c=='E' or c=='I' or c=='O' or c=='U':\n",
        "    print(\"\\nIt is a Vowel\")\n",
        "else:\n",
        "    print(\"\\nIt is a Consonant\")"
      ],
      "metadata": {
        "colab": {
          "base_uri": "https://localhost:8080/"
        },
        "id": "d4J6Wtxd_Rcl",
        "outputId": "25ce7ec5-b577-42b3-b19f-09c409f21860"
      },
      "execution_count": null,
      "outputs": [
        {
          "output_type": "stream",
          "name": "stdout",
          "text": [
            "Enter the Character: u\n",
            "\n",
            "It is a Vowel\n"
          ]
        }
      ]
    },
    {
      "cell_type": "markdown",
      "source": [
        "# 14. Program to check leap year\n",
        "------------------------------\n",
        "##Steps:-\n",
        "**1.** Enter the year\n",
        "\n",
        "**2.** If it divides by *4* and *400* and not *100*, then it's a leap year, otherwise it's not a leap year"
      ],
      "metadata": {
        "id": "7YvBuEJB_asG"
      }
    },
    {
      "cell_type": "code",
      "source": [
        "y = int(input(\"Enter the Year: \"))\n",
        "\n",
        "if y%4==0 and y%100!=0:\n",
        "    print(\"\\nIt is a Leap Year\")\n",
        "elif y%400==0:\n",
        "    print(\"\\nIt is a Leap Year\")\n",
        "else:\n",
        "    print(\"\\nIt is not a Leap Year\")"
      ],
      "metadata": {
        "colab": {
          "base_uri": "https://localhost:8080/"
        },
        "id": "hg-6CaYu_8FE",
        "outputId": "298f5551-00e4-48d6-d922-8cbf5a97f59d"
      },
      "execution_count": null,
      "outputs": [
        {
          "output_type": "stream",
          "name": "stdout",
          "text": [
            "Enter the Year: 2002\n",
            "\n",
            "It is not a Leap Year\n"
          ]
        }
      ]
    },
    {
      "cell_type": "markdown",
      "source": [
        "# Program with iteratives"
      ],
      "metadata": {
        "id": "a_ZpKy23AaNd"
      }
    },
    {
      "cell_type": "markdown",
      "source": [
        "# 15. Program to check whether a number is a perfect number or not\n",
        "------------------------------\n",
        "A number $n$ is called a **perfect number** if sum of all its divisors gives $n$."
      ],
      "metadata": {
        "id": "pGCnCMScAjOV"
      }
    }
  ]
}